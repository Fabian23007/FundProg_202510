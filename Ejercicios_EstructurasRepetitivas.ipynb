{
  "nbformat": 4,
  "nbformat_minor": 0,
  "metadata": {
    "colab": {
      "provenance": [],
      "collapsed_sections": [
        "l3yMOZqwp4Oc",
        "SjHM7HC7qFMJ",
        "Iab-v20f6KvM",
        "jw5R6APh25py",
        "Z3BC8Th93BtG",
        "00r6HJec4ZTe",
        "s3M0ge8F4nG-",
        "f4O44t23z6bE",
        "cWg4qvAv45CG"
      ],
      "include_colab_link": true
    },
    "kernelspec": {
      "name": "python3",
      "display_name": "Python 3"
    },
    "language_info": {
      "name": "python"
    }
  },
  "cells": [
    {
      "cell_type": "markdown",
      "metadata": {
        "id": "view-in-github",
        "colab_type": "text"
      },
      "source": [
        "<a href=\"https://colab.research.google.com/github/Fabian23007/FundProg_202510/blob/main/Ejercicios_EstructurasRepetitivas.ipynb\" target=\"_parent\"><img src=\"https://colab.research.google.com/assets/colab-badge.svg\" alt=\"Open In Colab\"/></a>"
      ]
    },
    {
      "cell_type": "markdown",
      "source": [
        "## Pseudocódigo\n",
        "### _Nombre: Fabian Oviedo, Javier Perez, Cristian Robayo, Yadiel López_\n",
        "### IDs: 000577288, 000575898, 000563245,000576591\n",
        "### Email: Fabian.oviedog@upb.edu.co, javier.perezs@upb.edu.co, cristian.robayo@upb.edu.co, yadiel.lopez@upb.edu.co"
      ],
      "metadata": {
        "id": "8GTNB7ZoZtKN"
      }
    },
    {
      "cell_type": "markdown",
      "source": [
        "##Ejercicio 1 - Coleccionista de Insectos\n",
        "\n",
        "Un coleccionista de insectos recoge insectos cada día durante siete días. Diseña un programa que\n",
        "mantenga un total acumulado del número de insectos recogidos durante esos siete días. El ciclo debe\n",
        "pedir el número de insectos recolectados cada día, y al finalizar, el programa debe mostrar el total de\n",
        "insectos recolectados.\n"
      ],
      "metadata": {
        "id": "l3yMOZqwp4Oc"
      }
    },
    {
      "cell_type": "markdown",
      "source": [
        "```\n",
        "program\n",
        "  start\n",
        "  declare int max_val = 7\n",
        "  declare int insect_day\n",
        "  declare int total = 0\n",
        "\n",
        "  For Int i = 0 To max_val\n",
        "    display\"Ingrese la cantidad de insectos del dia: \"\n",
        "    input insect_day\n",
        "    total += insect_day\n",
        "  End For\n",
        "  display\"la cantidad de insectos recolectados en la semana fue: \",total\n",
        "  end\n",
        "```"
      ],
      "metadata": {
        "id": "XAfBXYd8p7B9"
      }
    },
    {
      "cell_type": "code",
      "source": [
        "total = 0\n",
        "\n",
        "for i in range(7):\n",
        "    insect_dia = int(input(\"Ingrese la cantidad de insectos del dia: \"))\n",
        "    total += insect_dia\n",
        "\n",
        "print(\"la cantidad de insectos recolectados en la semana fue: \",total)"
      ],
      "metadata": {
        "id": "heOk4lsep_Xk",
        "colab": {
          "base_uri": "https://localhost:8080/"
        },
        "outputId": "e7f79bcb-9963-456d-9a74-b345fd86e7b4"
      },
      "execution_count": null,
      "outputs": [
        {
          "output_type": "stream",
          "name": "stdout",
          "text": [
            "Ingrese la cantidad de insectos del dia: 3\n",
            "Ingrese la cantidad de insectos del dia: 6\n",
            "Ingrese la cantidad de insectos del dia: 7\n",
            "Ingrese la cantidad de insectos del dia: 8\n",
            "Ingrese la cantidad de insectos del dia: 9\n",
            "Ingrese la cantidad de insectos del dia: 0\n",
            "Ingrese la cantidad de insectos del dia: 9\n",
            "la cantidad de insectos recolectados en la semana fue:  42\n"
          ]
        }
      ]
    },
    {
      "cell_type": "markdown",
      "source": [
        "##Ejercicio 2 - Calorías Quemadas\n",
        "Corriendo en una cinta específica quemas 3.9 calorías por minuto. Diseña un programa que use un ciclo para mostrar el número de calorías quemadas después de 10, 15, 20, 25 y 30 minutos."
      ],
      "metadata": {
        "id": "SjHM7HC7qFMJ"
      }
    },
    {
      "cell_type": "markdown",
      "source": [
        "```\n",
        "program\n",
        "start\n",
        "  declare Int[] max_val\n",
        "  declare real calorias = 3.9\n",
        "\n",
        "  set max_val = 10,15,20,25,30\n",
        "  \n",
        "  For Int i = 0 To max_val\n",
        "    calorias = calorias * i\n",
        "    display\"Las calorias quemadas en\",i,\"minutos fue de: \",calorias,\"calorias\"\n",
        "    set calorias = 3.9\n",
        "  End For\n",
        "  \n",
        "end\n",
        "```"
      ],
      "metadata": {
        "id": "vfn0viLUry1z"
      }
    },
    {
      "cell_type": "code",
      "source": [
        "calorias = 3.9\n",
        "for i in range(10,35,5):\n",
        "    calorias = calorias * i\n",
        "    print(\"Las calorias quemadas en\",i,\"minutos fue de: \",calorias,\"calorias\")\n",
        "    calorias = 3"
      ],
      "metadata": {
        "id": "TiopeSmvro0l"
      },
      "execution_count": null,
      "outputs": []
    },
    {
      "cell_type": "markdown",
      "source": [
        "##Ejercicio 3 - Análisis de Presupuesto  \n",
        "Diseña un programa que pida al usuario ingresar la cantidad de dinero que ha presupuestado para un\n",
        "mes. Luego, en un ciclo, el programa debe pedirle al usuario que ingrese cada uno de sus gastos y mantener un total acumulado. Cuando el ciclo termine, el programa debe mostrar si el usuario se\n",
        "pasó o quedó por debajo de su presupuesto."
      ],
      "metadata": {
        "id": "Iab-v20f6KvM"
      }
    },
    {
      "cell_type": "markdown",
      "source": [
        "```\n",
        "Program 3\n",
        "\n",
        "Start\n",
        "Declare real presupuesto\n",
        "Declare real[] list_gastos\n",
        "Declare real suma_gastos = 0\n",
        "Declare interger counter = 0\n",
        "declare integer length = 0\n",
        "\n",
        "Display \"ingrese su presupuesto para este mes\"\n",
        "Input presupuesto\n",
        "\n",
        "Display \" ingrese su lista de gastos\"\n",
        "input list_gastos\n",
        "\n",
        "set length_gastos =length (list_gastos)\n",
        "\n",
        "for real gastos = 0 to length_gastos - 1\n",
        "  suma_gastos += list_gastos[gastos]\n",
        "End for\n",
        "\n",
        "if suma_gastos < presupuesto then\n",
        "  Display \" sus gastos quedaron por debajo del presupuesto\"\n",
        "\n",
        "elif suma_gastos > presupuesto then\n",
        "  Display \" su gastos son mayor que su presupuesto\"\n",
        "  \n",
        "else\n",
        "Display \"Sus gastos son iguales al presupuesto\"\n",
        "\n",
        "End if\n",
        "\n",
        "\n",
        "\n",
        "\n",
        "End\n",
        "```"
      ],
      "metadata": {
        "id": "ajHDN8UFZ9rQ"
      }
    },
    {
      "cell_type": "code",
      "source": [
        "presupuesto = float(input(\"Ingrese su presupuesto para este mes: \"))\n",
        "gastos = int(input(\"Ingrese su numero de gastos: \"))\n",
        "list_gastos = []\n",
        "for gasto in range(gastos):\n",
        " gasto = float(input(\"Ingrese su gasto: \"))\n",
        " list_gastos.append(gasto)\n",
        " suma_gastos = 0\n",
        "for i in list_gastos:\n",
        "  suma_gastos += gasto\n",
        "if suma_gastos < presupuesto:\n",
        "  print(\"Sus gastos quedaron por debajo del presupuesto\")\n",
        "elif suma_gastos > presupuesto:\n",
        "  print(\"Sus gastos son mayor que su presupuesto\")\n",
        "else :\n",
        "  print(\"Sus gastos son iguales al presupuesto\")\n"
      ],
      "metadata": {
        "colab": {
          "base_uri": "https://localhost:8080/"
        },
        "id": "cx3_xrzlZ8_Y",
        "outputId": "20834362-13e1-4766-d94d-0d0b68009e78"
      },
      "execution_count": null,
      "outputs": [
        {
          "output_type": "stream",
          "name": "stdout",
          "text": [
            "Ingrese su presupuesto para este mes: 1000\n",
            "Ingrese su numero de gastos: 1\n",
            "Ingrese su gasto: 1000\n",
            "Sus gastos son iguales al presupuesto\n"
          ]
        }
      ]
    },
    {
      "cell_type": "markdown",
      "source": [
        "## Ejercicio 4 - Suma de Números  \n",
        "Diseña un programa con un ciclo que le pida al usuario ingresar una serie de números positivos. El usuario debe ingresar un número negativo para indicar que ha terminado de ingresar números.\n",
        "Después de que se hayan ingresado todos los números positivos, el programa debe mostrar la suma de todos ellos."
      ],
      "metadata": {
        "id": "jw5R6APh25py"
      }
    },
    {
      "cell_type": "markdown",
      "source": [
        "program Suma_de_Números\n",
        "```\n",
        "start\n",
        "    Declare real num\n",
        "    Declare real [] lista\n",
        "    Declare real suma_lista = 0\n",
        "    While num >= 0\n",
        "        Display \"ingresa numero por numero positivo de la lista y cuando temines de ingresar numeros coloca uno negativo\"\n",
        "        Input num\n",
        "        Set lista = num\n",
        "    If num < 0\n",
        "        suma_lista += lista\n",
        "        Display \"la suma de tu lista es: \", suma_lista\n",
        "    End If\n",
        "    End While\n",
        "End\n",
        "\n",
        "```"
      ],
      "metadata": {
        "id": "gv9ABJBJITw8"
      }
    },
    {
      "cell_type": "code",
      "source": [
        "suma_lista = 0\n",
        "lista = []\n",
        "num = 0\n",
        "while num >= 0:\n",
        "  num = float(input(\"ingresa numero por numero positivo de la lista y cuando temines de ingresar numeros coloca uno negativo: \"))\n",
        "  if num >= 0:\n",
        "    lista.append(num)\n",
        "while num < 0:\n",
        "  suma_lista = sum(lista)\n",
        "  print(\"la suma de tu lista es: \", suma_lista)\n",
        "  break"
      ],
      "metadata": {
        "id": "NecYIkmHIUID"
      },
      "execution_count": null,
      "outputs": []
    },
    {
      "cell_type": "markdown",
      "source": [
        "##Ejercicio 5 - Aumento de Matrícula  /// Por corregir\n",
        "En una universidad, la matrícula para un estudiante de tiempo completo es de $6,000 por semestre.\n",
        "Se ha anunciado que la matrícula aumentará un 2% cada año durante los próximos cinco años. Diseña un programa con un ciclo que muestre la matrícula proyectada para los próximos cinco años.\\"
      ],
      "metadata": {
        "id": "Z3BC8Th93BtG"
      }
    },
    {
      "cell_type": "markdown",
      "source": [
        "```\n",
        "program aumento_matricula\n",
        "  start\n",
        "    declare int matricula = 6000\n",
        "    declare const float aumento = 0.02\n",
        "    declare int años = 5\n",
        "    declare float aumento_total\n",
        "    declare float aumento_matri\n",
        "    declare float matri_total\n",
        "\n",
        "    For int i = 1 To años\n",
        "      set aumento_total = i * aumento\n",
        "      set matri_total = matricula * aumento_total\n",
        "      set aumento_matri = matri_total + matricula\n",
        "      display\"El aumento de la matricula en\",i,\"es de: \",aumento_matri\n",
        "\n",
        "  end\n",
        "```"
      ],
      "metadata": {
        "id": "RsvK6xGL-M5B"
      }
    },
    {
      "cell_type": "code",
      "source": [
        "matricula = 6000\n",
        "aumento = 0.02\n",
        "años = 5\n",
        "aumento_total = 0\n",
        "aumento_matri = 0\n",
        "matri_total = 0\n",
        "\n",
        "for i in range(1,años + 1):\n",
        "    aumento_total = i * aumento\n",
        "    matri_total = matricula * aumento_total\n",
        "    aumento_matri = matri_total + matricula\n",
        "    print(\"El aumento de la matricula en\",i,\"es de: \",aumento_matri)"
      ],
      "metadata": {
        "colab": {
          "base_uri": "https://localhost:8080/"
        },
        "id": "YmF1LoVrBmVS",
        "outputId": "65b9a74e-6706-469b-f56f-a7d4708f2841"
      },
      "execution_count": null,
      "outputs": [
        {
          "output_type": "stream",
          "name": "stdout",
          "text": [
            "El aumento de la matricula en 1 es de:  6120.0\n",
            "El aumento de la matricula en 2 es de:  6240.0\n",
            "El aumento de la matricula en 3 es de:  6360.0\n",
            "El aumento de la matricula en 4 es de:  6480.0\n",
            "El aumento de la matricula en 5 es de:  6600.0\n"
          ]
        }
      ]
    },
    {
      "cell_type": "markdown",
      "source": [
        "##Ejercicio 6 - Distancia Recorrida  \n",
        "La distancia que recorre un vehículo se puede calcular con la siguiente fórmula:\n",
        "\n",
        "Distancia = Velocidad × Tiempo\n",
        "\n",
        "Por ejemplo, si un tren viaja a 40 millas por hora durante tres horas, la distancia recorrida es de 120 millas.\n",
        "Diseña un programa que le pida al usuario la velocidad de un vehículo (en millas por hora) y cuántas horas ha viajado. Luego debe usar un ciclo para mostrar la distancia recorrida por cada hora\n",
        "de ese período."
      ],
      "metadata": {
        "id": "DornQlNZ3akT"
      }
    },
    {
      "cell_type": "markdown",
      "source": [
        "```\n",
        "program\n",
        "  start\n",
        "    declare real velocidad\n",
        "    declare int horas\n",
        "    declare real distancia = 0\n",
        "\n",
        "    display\"Ingrese la velocidad en millas por hora: \"\n",
        "    input velocidad\n",
        "\n",
        "    display\"Ingrese la cantidad de horas que duro el viaje: \"\n",
        "    input horas\n",
        "\n",
        "    For int i = 0 To horas + 1\n",
        "      set distancia = velocidad * i\n",
        "      display\"La distancia recorrida en\",i,\"fue de: \", distancia\n",
        "      distancia = 0\n",
        "  end\n",
        "```"
      ],
      "metadata": {
        "id": "9_5NBndG3z-y"
      }
    },
    {
      "cell_type": "code",
      "source": [
        "velocidad = int(input(\"Ingrese una velocidad en millas por hora: \"))\n",
        "tiempo = int(input(\"Ingrese las horas del viaje: \"))\n",
        "distancia = 0\n",
        "\n",
        "for i in range(1,tiempo + 1):\n",
        "    distancia = velocidad * i\n",
        "    print(\"La distancia recorrida en\",i,\"fue de: \",distancia)"
      ],
      "metadata": {
        "colab": {
          "base_uri": "https://localhost:8080/"
        },
        "id": "W4YtaQGx5XO7",
        "outputId": "44083ced-03af-4987-d313-d4970ad8a088"
      },
      "execution_count": null,
      "outputs": [
        {
          "output_type": "stream",
          "name": "stdout",
          "text": [
            "Ingrese una velocidad en millas por hora: 40\n",
            "Ingrese las horas del viaje: 3\n",
            "La distancia recorrida en 1 fue de:  40\n",
            "La distancia recorrida en 2 fue de:  80\n",
            "La distancia recorrida en 3 fue de:  120\n"
          ]
        }
      ]
    },
    {
      "cell_type": "markdown",
      "source": [
        "##Ejercicio 7 - Promedio de Lluvias\n",
        "Diseña un programa que use ciclos anidados para recolectar datos y calcular el promedio de lluvia\n",
        "durante un período de años. El programa debe primero preguntar cuántos años se quiere evaluar. El\n",
        "ciclo externo se repetirá una vez por cada año. El ciclo interno se repetirá 12 veces, una por cada mes.\n",
        "Cada iteración del ciclo interno debe pedir al usuario los centímetros de lluvia de ese mes. Al finalizar\n",
        "todas las iteraciones, el programa debe mostrar el número total de meses, el total de lluvia en\n",
        "centímetros y el promedio de lluvia por mes para todo el período."
      ],
      "metadata": {
        "id": "WLRdm0wo4T_7"
      }
    },
    {
      "cell_type": "markdown",
      "source": [
        "```\n",
        "program promedio de lluvias\n",
        "start\n",
        "  declare int años\n",
        "  declare int total_meses\n",
        "  declare real lluvia_cm\n",
        "  declare real lluvia_cm_total = 0\n",
        "  declare real lluvia_ave\n",
        "\n",
        "  display\"Ingrese la cantidad de años que quiere evaluar: \"\n",
        "  input años\n",
        "\n",
        "  set total_meses = años * 12\n",
        "\n",
        "\n",
        "  For int i = 0 To años\n",
        "    For int j = 0 To total_meses\n",
        "      display\"Ingrese los centimetros de lluvia del mes: \"\n",
        "      input lluvia_cm\n",
        "      lluvia_cm_total += lluvia_cm\n",
        "    End For\n",
        "    set lluvia_ave = lluvia_cm_total / total_meses\n",
        "  End For\n",
        "\n",
        "  display\"El numero total de meses fue de: \",total_meses,\"meses\"\n",
        "  display\"El total de centimetros de lluvia fue de: \",lluvia_cm_total,\"cm\"\n",
        "  display\"El promedio de centimetros de lluvia fue de: \",lluvia_ave\n",
        "end\n",
        "```"
      ],
      "metadata": {
        "id": "8RKVoqDqnTlg"
      }
    },
    {
      "cell_type": "code",
      "source": [
        "años = int(input(\"Ingrese la cantidad de años que quiere evaluar: \"))\n",
        "total_meses = años * 12\n",
        "lluvia_cm = 0\n",
        "lluvia_cm_total = 0\n",
        "lluvia_ave = 0\n",
        "\n",
        "for i in range(años):\n",
        "    for j in range(total_meses):\n",
        "        lluvia_cm = float(input(\"Ingrese los centimetros de lluvia del mes: \"))\n",
        "        lluvia_cm_total += lluvia_cm\n",
        "\n",
        "lluvia_ave = lluvia_cm_total / total_meses\n",
        "print(\"El numero total de meses fue de: \",total_meses,\"meses\")\n",
        "print(\"El total de centimetros de lluvia fue de: \",lluvia_cm_total,\"cm\")\n",
        "print(\"El promedio de centimetros de lluvia fue de: \",lluvia_ave)"
      ],
      "metadata": {
        "colab": {
          "base_uri": "https://localhost:8080/"
        },
        "id": "wpzluWWtu6T8",
        "outputId": "f98377b1-5487-49d6-fa99-bd5078ae395c"
      },
      "execution_count": null,
      "outputs": [
        {
          "output_type": "stream",
          "name": "stdout",
          "text": [
            "Ingrese la cantidad de años que quiere evaluar: 1\n",
            "Ingrese los centimetros de lluvia del mes: 20\n",
            "Ingrese los centimetros de lluvia del mes: 30\n",
            "Ingrese los centimetros de lluvia del mes: 40\n",
            "Ingrese los centimetros de lluvia del mes: 50\n",
            "Ingrese los centimetros de lluvia del mes: 60\n",
            "Ingrese los centimetros de lluvia del mes: 70\n",
            "Ingrese los centimetros de lluvia del mes: 80\n",
            "Ingrese los centimetros de lluvia del mes: 90\n",
            "Ingrese los centimetros de lluvia del mes: 100\n",
            "Ingrese los centimetros de lluvia del mes: 11\n",
            "Ingrese los centimetros de lluvia del mes: 12\n",
            "Ingrese los centimetros de lluvia del mes: 32\n",
            "El numero total de meses fue de:  12 meses\n",
            "El total de centimetros de lluvia fue de:  595.0 cm\n",
            "El promedio de centimetros de lluvia fue de:  49.583333333333336\n"
          ]
        }
      ]
    },
    {
      "cell_type": "markdown",
      "source": [
        "##Ejercicio 8 - Tabla de Celsius a Fahrenheit\n",
        "Diseña un programa que muestre una tabla de las temperaturas en grados Celsius del 0 al 20 y sus equivalentes en Fahrenheit. La fórmula para convertir una temperatura de Celsius a Fahrenheit es:\n",
        "\n",
        "F = (9/5 * C) + 32\n",
        "\n",
        "donde F es la temperatura en Fahrenheit y C es la temperatura en Celsius. Tu programa debe usar un ciclo para mostrar la tabla."
      ],
      "metadata": {
        "id": "00r6HJec4ZTe"
      }
    },
    {
      "cell_type": "markdown",
      "source": [
        "```\n",
        "program tabla celsius a fahrenheit\n",
        "  start\n",
        "    declare int celsius = 20\n",
        "    declare float fahr\n",
        "\n",
        "    For int i = 0 To celsius\n",
        "      set fahr = (9/5 * C) + 32  \n",
        "      display i,\"°C = \",fahr,\"°F\"\n",
        "      display\"-----------\"\n",
        "  end\n",
        "```"
      ],
      "metadata": {
        "id": "X5ltuO2gzgk5"
      }
    },
    {
      "cell_type": "code",
      "source": [
        "celsius = 20\n",
        "for i in range(celsius + 1):\n",
        "    fahr = (9/5 * i) + 32\n",
        "    print(i,\"°C = \",fahr,\"°F\")\n",
        "    print(\"------------------\")"
      ],
      "metadata": {
        "colab": {
          "base_uri": "https://localhost:8080/"
        },
        "id": "t0l7Pcha73H1",
        "outputId": "efdc72f1-74e7-4753-ed2e-56277ed08654"
      },
      "execution_count": null,
      "outputs": [
        {
          "output_type": "stream",
          "name": "stdout",
          "text": [
            "0 °C =  32.0 °F\n",
            "------------------\n",
            "1 °C =  33.8 °F\n",
            "------------------\n",
            "2 °C =  35.6 °F\n",
            "------------------\n",
            "3 °C =  37.4 °F\n",
            "------------------\n",
            "4 °C =  39.2 °F\n",
            "------------------\n",
            "5 °C =  41.0 °F\n",
            "------------------\n",
            "6 °C =  42.8 °F\n",
            "------------------\n",
            "7 °C =  44.6 °F\n",
            "------------------\n",
            "8 °C =  46.4 °F\n",
            "------------------\n",
            "9 °C =  48.2 °F\n",
            "------------------\n",
            "10 °C =  50.0 °F\n",
            "------------------\n",
            "11 °C =  51.8 °F\n",
            "------------------\n",
            "12 °C =  53.6 °F\n",
            "------------------\n",
            "13 °C =  55.400000000000006 °F\n",
            "------------------\n",
            "14 °C =  57.2 °F\n",
            "------------------\n",
            "15 °C =  59.0 °F\n",
            "------------------\n",
            "16 °C =  60.8 °F\n",
            "------------------\n",
            "17 °C =  62.6 °F\n",
            "------------------\n",
            "18 °C =  64.4 °F\n",
            "------------------\n",
            "19 °C =  66.2 °F\n",
            "------------------\n",
            "20 °C =  68.0 °F\n",
            "------------------\n"
          ]
        }
      ]
    },
    {
      "cell_type": "markdown",
      "source": [
        "##Ejercicio 9 - Centavos por Pago\n",
        "Diseña un programa que calcule la cantidad de dinero que una persona ganaría durante un período de tiempo si su salario es de un centavo el primer día, dos centavos el segundo día, y se duplica cada día.\n",
        "El programa debe pedir al usuario el número de días. Muestra una tabla que muestre cuál fue el salario por cada día y luego muestra el pago total al final del período. El total debe mostrarse en\n",
        "dólares, no en número de centavos.\n"
      ],
      "metadata": {
        "id": "s3M0ge8F4nG-"
      }
    },
    {
      "cell_type": "markdown",
      "source": [
        "### Pseducodigo\n",
        "```\n",
        "Program. 9 centavos por pago\n",
        "\n",
        "Start\n",
        "Declare real centavos = 1\n",
        "declare interger dias\n",
        "declare real dolares\n",
        "declare real subtotal_dias\n",
        "declare target = 0\n",
        "\n",
        "Display \" ingrese el numero de dias\"\n",
        "input dias\n",
        "\n",
        "\n",
        "while target =< dias\n",
        "  subtotal_dias += centavos\n",
        "\n",
        "  subtotal_dias *=2\n",
        "\n",
        "  Display (\"Su salario,el dia\", target , \"es de\" , subtotal_dias,\"centavos\")\n",
        "\n",
        "  display (\"\\n\")\n",
        "\n",
        "  target += 1\n",
        "\n",
        "dolares = subtotal_dias* 0.01\n",
        "\n",
        "print(\"para un total de\", dolares, \"USD\")\n",
        "\n",
        "end\n",
        "```"
      ],
      "metadata": {
        "id": "whH7rZsr0jOg"
      }
    },
    {
      "cell_type": "code",
      "source": [
        "centavos = 1\n",
        "dias = int(input(\"Ingrese el numero de dias: \"))\n",
        "subtotal_dias = 1\n",
        "dolares = 0\n",
        "target = 0\n",
        "\n",
        "while target <= dias:\n",
        "    subtotal_dias += centavos\n",
        "    subtotal_dias *=2\n",
        "    print(\"Su salario,el dia\", target , \"es de\" , subtotal_dias,\"centavos\")\n",
        "    print (\"\\n\")\n",
        "    target += 1\n",
        "\n",
        "dolares = subtotal_dias* 0.01\n",
        "print(\"para un total de\", dolares, \"USD\")"
      ],
      "metadata": {
        "id": "nvpohLoTVRwZ"
      },
      "execution_count": null,
      "outputs": []
    },
    {
      "cell_type": "markdown",
      "source": [
        "##Ejercicio 10 - Mayor y Menor  \n",
        "Diseña un programa con un ciclo que permita al usuario ingresar una serie de números. El usuario\n",
        "debe ingresar -99 para señalar el fin de la serie. Después de que se hayan ingresado todos los\n",
        "números, el programa debe mostrar el número más grande y el número más pequeño que se\n",
        "ingresaron."
      ],
      "metadata": {
        "id": "lqHyz7D94t77"
      }
    },
    {
      "cell_type": "markdown",
      "source": [
        "```\n",
        "program mayor_y_menor\n",
        "  start\n",
        "    declare int[] nums\n",
        "    declare int num\n",
        "    declare bool go = True\n",
        "    declare int num_min\n",
        "    declare int num_max\n",
        "\n",
        "    While go Then\n",
        "      input num\n",
        "      If num == -99 Then\n",
        "          go = False\n",
        "      Else\n",
        "        nums.append(num)\n",
        "      End If\n",
        "    End While\n",
        "\n",
        "    nums.sort(reverse=False)\n",
        "\n",
        "    set num_min = nums[0]\n",
        "    set num_max = nums[-1]\n",
        "\n",
        "    display\"El numero mayor es: \", num_max\n",
        "    display\"El numero mayor es: \", num_min\n",
        "  end\n",
        "  ```"
      ],
      "metadata": {
        "id": "KJaCokS9DK6t"
      }
    },
    {
      "cell_type": "code",
      "source": [
        "nums = [0]\n",
        "go = True\n",
        "\n",
        "while go:\n",
        "  num = int(input(\"Ingrese un numero: \"))\n",
        "  if num == -99:\n",
        "    break\n",
        "  nums.append(num)\n",
        "nums.sort(reverse=False)\n",
        "print(nums)\n",
        "print(\"El numero menor es: \", nums[0])\n",
        "print(\"El numero mayor es: \", nums[-1])"
      ],
      "metadata": {
        "id": "oIFtDp6fHYgB",
        "colab": {
          "base_uri": "https://localhost:8080/"
        },
        "outputId": "bef9ab8e-bc3c-4453-bb1c-89ea3fa0dc66"
      },
      "execution_count": null,
      "outputs": [
        {
          "output_type": "stream",
          "name": "stdout",
          "text": [
            "Ingrese un numero: -5\n",
            "Ingrese un numero: -4\n",
            "Ingrese un numero: -3\n",
            "Ingrese un numero: -2\n",
            "Ingrese un numero: -1\n",
            "Ingrese un numero: 1\n",
            "Ingrese un numero: 2\n",
            "Ingrese un numero: 3\n",
            "Ingrese un numero: 4\n",
            "Ingrese un numero: 5\n",
            "Ingrese un numero: -99\n",
            "[-5, -4, -3, -2, -1, 0, 1, 2, 3, 4, 5]\n"
          ]
        }
      ]
    },
    {
      "cell_type": "markdown",
      "source": [
        "##Ejercicio 11 - Primero y Último  \n",
        "Diseña un programa que pida al usuario una serie de nombres (en cualquier orden). Después de que se haya ingresado el último nombre, el programa debe mostrar el nombre que está primero alfabéticamente y el nombre que está último alfabéticamente. Por ejemplo, si el usuario ingresa los nombres Kristin, Joel, Adam, Beth, Zeb, y Chris, el programa debería mostrar Adam y Zeb."
      ],
      "metadata": {
        "id": "81DVOyuc4x7C"
      }
    },
    {
      "cell_type": "markdown",
      "source": [
        "###Pseudocodigo\n",
        "```\n",
        "Program Nombres\n",
        "Start\n",
        "Declare string[] nombres\n",
        "Declare int num\n",
        "\n",
        "\n",
        "Display \"ingrese su numero de nombres\"\n",
        "input num\n",
        "\n",
        "Display \"Ingrese su lista de nombres\"\n",
        "input list_nombres\n",
        "\n",
        "list_nombres.sort()\n",
        "\n",
        "display(\"Su primer nombre en orden alfabetico es\",list_nombres[0])\n",
        "display(\"Su ultimo nombre en orden alfabetico es\",list_nombres[-1])\n",
        "\n",
        "\n",
        "End\n",
        "```"
      ],
      "metadata": {
        "id": "f4O44t23z6bE"
      }
    },
    {
      "cell_type": "code",
      "source": [
        "Cant_nombres = int(input(\"Ingrese su numero de nombres: \"))\n",
        "list_nombres = []\n",
        "for nombre in range(Cant_nombres):\n",
        " nombre = str(input(\"Ingrese el nombre: \"))\n",
        " list_nombres.append(nombre)\n",
        "list_nombres.sort()\n",
        "print(\"Su primer nombre en orden alfabetico es\",list_nombres[0])\n",
        "print(\"Su ultimo nombre en orden alfabetico es\",list_nombres[-1])"
      ],
      "metadata": {
        "id": "A4g2_HK_z6zD",
        "colab": {
          "base_uri": "https://localhost:8080/"
        },
        "outputId": "5fa8fb38-a4a1-4ad0-99be-621a2cf5e34b"
      },
      "execution_count": null,
      "outputs": [
        {
          "output_type": "stream",
          "name": "stdout",
          "text": [
            "Ingrese su numero de nombres: 3\n",
            "Ingrese el nombre: fran\n",
            "Ingrese el nombre: eli\n",
            "Ingrese el nombre: valery\n",
            "Su primer nombre en orden alfabetico es eli\n",
            "Su ultimo nombre en orden alfabetico es valery\n"
          ]
        }
      ]
    },
    {
      "cell_type": "markdown",
      "source": [
        "##Ejercicio 12 - Cálculo del Factorial de un Número\n",
        "En matemáticas, la notación 𝑛! representa el factorial de un número entero no negativo 𝑛. El factorial de n es el producto de todos los números enteros no negativos desde 1 hasta 𝑛.\n",
        "\n",
        "Por ejemplo:\n",
        "\n",
        "7! = 1 × 2 × 3 × 4 × 5 × 6 × 7 = 5040\n",
        "\n",
        "y\n",
        "\n",
        "4! = 1 × 2 × 3 × 4 = 24\n",
        "\n",
        "Diseña un programa que pida al usuario que ingrese un número entero no negativo y luego muestre el factorial de ese número."
      ],
      "metadata": {
        "id": "cWg4qvAv45CG"
      }
    },
    {
      "cell_type": "markdown",
      "source": [
        "12.\n",
        "program calculo_del_factorial_de_un_numero\n",
        "```\n",
        "start\n",
        "Decalre real num\n",
        "Declare real contar\n",
        "Display \"ingresa un numero entero no negativo:\"\n",
        "Input num\n",
        "For i in  range(num)\n",
        "    resultado *= (float(i+1))\n",
        "End For\n",
        "    Display \"el resultado de la multiplicacion es: \", resultado\n",
        "End\n",
        "```"
      ],
      "metadata": {
        "id": "MxNUazLmUFdT"
      }
    },
    {
      "cell_type": "code",
      "source": [
        "resultado = 1\n",
        "num = int(input(\"ingresa un numero entero no negativo: \"))\n",
        "for i in range(num):\n",
        "    resultado *= (float(i+1))\n",
        "print (\"el resultado de la multiplicacion es: \", resultado)"
      ],
      "metadata": {
        "colab": {
          "base_uri": "https://localhost:8080/"
        },
        "id": "3Dy9FjxSUE5t",
        "outputId": "d6603269-7fbb-4d2e-df20-4e82e960e98b"
      },
      "execution_count": null,
      "outputs": [
        {
          "output_type": "stream",
          "name": "stdout",
          "text": [
            "ingresa un numero entero no negativo: 5\n",
            "el resultado de la multiplicacion es:  120.0\n"
          ]
        }
      ]
    },
    {
      "cell_type": "markdown",
      "source": [
        "## 13. Generador de Discurso Político\n",
        "Imagina que formas parte de un equipo de campaña que necesita crear discursos políticos\n",
        "rápidamente. Para ello, contarás con una tabla de palabras y frases predefinidas para distintas\n",
        "secciones de un discurso: título, público objetivo, condición social, compromiso político, lucha social,\n",
        "promesa, beneficio populista y cantidad de votos (ver Fig. 1). El programa deberá construir un\n",
        "mensaje político seleccionando aleatoriamente una palabra o frase de cada categoría. El mensaje final\n",
        "debe mostrarse al terminar la ejecución del programa. Se recomienda el uso de listas, ciclos y la\n",
        "función de selección aleatoria para generar el discurso."
      ],
      "metadata": {
        "id": "lAvvpelFpXDv"
      }
    },
    {
      "cell_type": "markdown",
      "source": [
        "###Pseudocodigo\n",
        "```\n",
        "Program Discurso\n",
        "Start\n",
        "/lista de palabras\n",
        "Declare String[] Título = [\"Queridos\", \"Apreciados\",...]\n",
        "Declare String[]Público_Objetivo = [\"Compatriotas\", \"Copartidarios\",...]\n",
        "Declare String[]Condición = [\"En mi gobierno\", \"Con su apoyo\",...]\n",
        "Declare String[]Compromiso = [\"Voy a derrotar\", \"Venceré\",...]\n",
        "Declare String[]Ilusión = [\"Voy a derrotar\", \"Venceré\",...]\n",
        "Declare String[]Promesa = [\"Trabajaré por\", \"Garantizaré\",...]\n",
        "Declare String[]Beneficio = [\"La educación \", \"El empleo \",..]\n",
        "Declare String[]Dependiendo = [\"Del país.\",\" De la ciudad. \",...]\n",
        "Declare string []Collection\n",
        "\n",
        "Collection.add(Título)\n",
        "Collection.add(Público_Objetivo)\n",
        "Collection.add(Condición)\n",
        "Collection.add(Compromiso)\n",
        "Collection.add(Ilusión)\n",
        "Collection.add(Promesa)\n",
        "Collection.add(Beneficio)  \n",
        "Collection.add(Dependiendo)\n",
        "Collection.add(Collection)\n",
        "\n",
        "\n",
        "for i in range(10):\n",
        "  for words in Collection:\n",
        "    idx = random.randint(0, len(words)-1)\n",
        "    discurso += words[idx] + \" \"\n",
        "  discurso += \"\\n\"\n",
        "Display \" discurso \"\n",
        "\n",
        "End\n",
        "```"
      ],
      "metadata": {
        "id": "okh3z9FL04_n"
      }
    },
    {
      "cell_type": "code",
      "source": [
        "import random\n",
        "Título = [\"Queridos\", \"Apreciados\", \"Distinguidos\",\"Honorables\",\"Estimados\",\"Respetados\"]\n",
        "Público_Objetivo = [\"Compatriotas\", \"Copartidarios\", \"Amigos\", \"Coterráneos\",\"Conciudadanos\",\"Electores\"]\n",
        "Condición = [\"En mi gobierno\", \"Con su apoyo\", \"Siendo elegido\", \"Con su ayuda\", \"Si me siguen\",\"Durante mi mandato\"]\n",
        "Compromiso = [\"Voy a derrotar\", \"Venceré\", \"Eliminaré\", \"Acabaré\",\"Lucharé contra\",\"Combatiré\"]\n",
        "Ilusión =[\"La violencia y\", \"La delincuencia y\", \"La corrupción y\", \"La inflación y\", \"La pobreza y\", \"El desplazamiento y\"]\n",
        "Promesa  =[\"Trabajaré por\", \"Garantizaré\",\"Protegeré\", \"Velaré por\",\"Promoveré\",\" Defenderé\"]\n",
        "Beneficio =[\"La educación \", \"El empleo \", \"La seguridad\", \"La paz \", \"La igualdad \", \"La salud\"]\n",
        "Dependiendo =[\"Del país.\",\" De la ciudad. \", \"De la comunidad.\", \"De la población. \", \"Para toda la gente. \", \"De cada colombiano.\"]\n",
        "Collection = []\n",
        "Collection.append(Título)\n",
        "Collection.append(Público_Objetivo)\n",
        "Collection.append(Condición)\n",
        "Collection.append(Compromiso)\n",
        "Collection.append(Ilusión)\n",
        "Collection.append(Promesa)\n",
        "Collection.append(Beneficio)\n",
        "Collection.append(Dependiendo)\n",
        "discurso= \"\"\n",
        "for i in range(10):\n",
        "  for words in Collection:\n",
        "    idx = random.randint(0, len(words)-1)\n",
        "    discurso += words[idx] + \" \"\n",
        "  discurso += \"\\n\"\n",
        "print(discurso)"
      ],
      "metadata": {
        "colab": {
          "base_uri": "https://localhost:8080/"
        },
        "id": "f37SK5SUjshh",
        "outputId": "5aae3aa7-0165-435f-9322-358f29578d84"
      },
      "execution_count": null,
      "outputs": [
        {
          "output_type": "stream",
          "name": "stdout",
          "text": [
            "Estimados Coterráneos Durante mi mandato Lucharé contra La violencia y Protegeré El empleo  De la comunidad. \n",
            "Respetados Coterráneos Siendo elegido Lucharé contra La inflación y Velaré por La paz   De la ciudad.  \n",
            "Honorables Compatriotas Con su apoyo Voy a derrotar El desplazamiento y  Defenderé La seguridad De la población.  \n",
            "Queridos Compatriotas Siendo elegido Venceré La corrupción y Promoveré La educación  De cada colombiano. \n",
            "Estimados Copartidarios Siendo elegido Voy a derrotar El desplazamiento y Trabajaré por La paz   De la ciudad.  \n",
            "Apreciados Compatriotas Siendo elegido Lucharé contra La corrupción y Garantizaré La igualdad  Para toda la gente.  \n",
            "Apreciados Conciudadanos Si me siguen Venceré La pobreza y Promoveré La paz  Del país. \n",
            "Queridos Compatriotas Con su apoyo Lucharé contra La inflación y Trabajaré por La seguridad De cada colombiano. \n",
            "Estimados Amigos Siendo elegido Eliminaré La violencia y Velaré por La salud Del país. \n",
            "Apreciados Compatriotas En mi gobierno Venceré La violencia y Velaré por La educación  De la comunidad. \n",
            "\n"
          ]
        }
      ]
    },
    {
      "cell_type": "markdown",
      "source": [
        "##Ejercicio 14 - Calculadora de Promedio Ponderado\n",
        "Desarrolla un programa que permita calcular el promedio ponderado de una serie de notas. El programa debe pedir al usuario ingresar una calificación y su respectivo porcentaje o peso en cada iteración. Una vez ingresada una calificación con su peso, el programa debe preguntar si desea ingresar otra más. Si el usuario responde \"no\", el programa calcula y muestra el promedio ponderado basado en los valores ingresados hasta ese momento."
      ],
      "metadata": {
        "id": "gXyCHK255atK"
      }
    },
    {
      "cell_type": "markdown",
      "source": [
        "###pseudocodigo\n",
        "```\n",
        "Start\n",
        "\n",
        "Declare real promedio_ponderado\n",
        "Declare suma_porcentajes\n",
        "Declare real nota\n",
        "Declare real porcentaje\n",
        "\n",
        "do\n",
        "\n",
        "  Display \"ingrese el porcentaje de su nota\"\n",
        "  input porcentaje\n",
        "\n",
        "  display \"ingrese su nota\"\n",
        "  input nota\n",
        "\n",
        "  Set promedio_porcentaje += porcentaje/1000\n",
        "  Set promedio_ponderado += nota*(porcentaje/100)\n",
        "\n",
        "  display \"ingrese si para continuar, no para calcular\"\n",
        "  input seguit\n",
        "While seguir !=no\n",
        "End\n",
        "```"
      ],
      "metadata": {
        "id": "OeWpiDOIS7ro"
      }
    },
    {
      "cell_type": "code",
      "source": [
        "promedio_ponderado = 0\n",
        "promedio_porcentaje = 0\n",
        "\n",
        "while True:\n",
        "    nota = float(input(\"Ingrese la nota: \"))\n",
        "    peso = float(input(\"Ingrese el porcentaje o peso de esta calificación\"))\n",
        "    promedio_porcentaje += peso / 100\n",
        "    promedio_ponderado += nota * (peso / 100)\n",
        "\n",
        "\n",
        "    continuar = input(\"Desea ingresar otra calificación (sí/no): \").lower()\n",
        "    if continuar == \"no\":\n",
        "        break\n",
        "\n",
        "if promedio_porcentaje == 0:\n",
        "    print(\"esa nota no tiene un peso.\")\n",
        "else:\n",
        "    promedio_ponderado = promedio_ponderado / promedio_porcentaje\n",
        "    print(\"El promedio ponderado es:\", promedio_ponderado)"
      ],
      "metadata": {
        "colab": {
          "base_uri": "https://localhost:8080/"
        },
        "id": "trBzhqDkS62K",
        "outputId": "84eb1bd2-af90-4e45-b6a9-df06ad6c0761"
      },
      "execution_count": null,
      "outputs": [
        {
          "output_type": "stream",
          "name": "stdout",
          "text": [
            "Ingrese la nota: 2\n",
            "Ingrese el porcentaje o peso de esta calificación3\n",
            "Desea ingresar otra calificación (sí/no): si\n",
            "Ingrese la nota: 3\n",
            "Ingrese el porcentaje o peso de esta calificación40\n",
            "Desea ingresar otra calificación (sí/no): no\n",
            "El promedio ponderado es: 2.930232558139535\n"
          ]
        }
      ]
    },
    {
      "cell_type": "markdown",
      "source": [
        "##Ejercicio 15 - Juego de Cara o Sello\n",
        "Crea un programa que permita jugar a \"Cara o Sello\" con el usuario. El programa seleccionará de manera aleatoria \"cara\" o \"sello\" y luego pedirá al usuario que haga su adivinanza. Si acierta, se le\n",
        "sumará un punto. Si falla, tendrá tres intentos antes de que el juego termine. Al finalizar el juego, se le mostrará al usuario la cantidad de puntos obtenidos y se le preguntará si quiere jugar de nuevo. Si el\n",
        "usuario elige \"sí\", el juego se reinicia. Si elige \"no\", el programa finaliza."
      ],
      "metadata": {
        "id": "wAYKpVA45ir9"
      }
    },
    {
      "cell_type": "markdown",
      "source": [
        "### Pseudocodigo\n",
        "```\n",
        "Program\n",
        "Start\n",
        "Declare integer points\n",
        "Declare string user_response\n",
        "Declare interger remaining_attempts\n",
        "Declare string user_choice\n",
        "Declare string random_result = random[cara, sello]\n",
        "Declare boolean play_again\n",
        "\n",
        "Display \"Bienvenido al juego de Cara o Sello\"\n",
        "\n",
        "Set play_again = True\n",
        "\n",
        "While play_again == True DO\n",
        "  Set points = 0\n",
        "  Set remaining_attempts = 3\n",
        "\n",
        "  WHILE remaining_attempts > 0 DO\n",
        "   Generate random_result\n",
        "   Display \"¿Adivina, Cara o Sello?\"\n",
        "   input user_choice\n",
        "\n",
        "   IF user_choice !=random_result THEN\n",
        "    Display \"Correcto, haz ganado un punto\"\n",
        "    Set points += 1\n",
        "\n",
        "   ELSE\n",
        "    Display \"Fallastes, el resultado es\", random_result\n",
        "    Set remaining_attempts += -1\n",
        "    Display \"te quedan\" , remaining_attempts, \"intentos\"\n",
        "\n",
        "   END IF\n",
        "   END WHILE\n",
        "\n",
        "   Display\"Fin del juego, haz obtenido\", points, \"puntos.\"\n",
        "   Display \"¿Quieres jugar de nuevo? (si/no)\"\n",
        "   input user_response\n",
        "   IF user_response != \"si\" Then\n",
        "    SET play_again == False\n",
        "    END IF\n",
        "END WHILE\n",
        "\n",
        "    Display \"Gracias por jugar\"\n",
        "\n",
        "End\n",
        "```"
      ],
      "metadata": {
        "id": "fkO4LcEkg46G"
      }
    },
    {
      "cell_type": "code",
      "source": [
        "import random\n",
        "\n",
        "print(\"¡Bienvenido al juego de Cara o Sello!\")\n",
        "jugar_de_nuevo = True\n",
        "\n",
        "while jugar_de_nuevo:\n",
        "    puntos = 0\n",
        "    intentos_restantes = 3\n",
        "\n",
        "    while intentos_restantes > 0:\n",
        "        # Elige aleatoriamente entre cara o sello\n",
        "        resultado = random.choice([\"cara\", \"sello\"])\n",
        "        # Solicita la adivinanza del usuario\n",
        "        adivinanza = input(\"Adivina: ¿Cara o Sello? \").lower()\n",
        "\n",
        "        if adivinanza == resultado:\n",
        "            print(\"¡Correcto! Has ganado un punto.\")\n",
        "            puntos += 1\n",
        "        else:\n",
        "            print(f\"Incorrecto. Era {resultado}.\")\n",
        "            intentos_restantes -= 1\n",
        "            print(f\"Te quedan {intentos_restantes} intentos.\")\n",
        "\n",
        "    print(f\"\\nJuego terminado. Has obtenido {puntos} punto(s).\")\n",
        "\n",
        "    # Pregunta si quiere jugar nuevamente\n",
        "    respuesta = input(\"¿Quieres jugar de nuevo? (sí/no): \").lower()\n",
        "    if respuesta != \"sí\":\n",
        "        jugar_de_nuevo = False\n"
      ],
      "metadata": {
        "id": "XgK3l2egh3E5"
      },
      "execution_count": null,
      "outputs": []
    }
  ]
}