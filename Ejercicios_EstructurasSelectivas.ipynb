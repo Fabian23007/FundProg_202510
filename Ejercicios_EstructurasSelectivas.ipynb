{
  "nbformat": 4,
  "nbformat_minor": 0,
  "metadata": {
    "colab": {
      "provenance": [],
      "include_colab_link": true
    },
    "kernelspec": {
      "name": "python3",
      "display_name": "Python 3"
    },
    "language_info": {
      "name": "python"
    }
  },
  "cells": [
    {
      "cell_type": "markdown",
      "metadata": {
        "id": "view-in-github",
        "colab_type": "text"
      },
      "source": [
        "<a href=\"https://colab.research.google.com/github/Fabian23007/FundProg_202510/blob/main/Ejercicios_EstructurasSelectivas.ipynb\" target=\"_parent\"><img src=\"https://colab.research.google.com/assets/colab-badge.svg\" alt=\"Open In Colab\"/></a>"
      ]
    },
    {
      "cell_type": "markdown",
      "source": [
        "## Estructuras Selectivas\n",
        "### _Nombre: Fabian Oviedo, Javier Perez, Cristian Robayo, Yadiel López_\n",
        "### IDs: 000577288, 000575898, 000563245,000576591\n",
        "### Email: Fabian.oviedog@upb.edu.co, javier.perezs@upb.edu.co, cristian.robayo@upb.edu.co, yadiel.lopez@upb.edu.co"
      ],
      "metadata": {
        "id": "1eNmmECOgxM0"
      }
    },
    {
      "cell_type": "markdown",
      "source": [
        "#Ejercicio 1\n",
        "## Números Romanos  \n",
        "Diseña un programa que solicite al usuario ingresar un número dentro del rango de 1 a 10. El programa debe mostrar la versión en números romanos de ese número. Si el número está fuera del rango de 1 a 10, el programa debe mostrar un mensaje de error."
      ],
      "metadata": {
        "id": "Qv6VKFnB8zor"
      }
    },
    {
      "cell_type": "markdown",
      "source": [
        "```\n",
        "program numeros_romanos\n",
        "start\n",
        "declare int num\n",
        "\n",
        "display\"Ingrese un numero del 1 al 10\"\n",
        "input num\n",
        "\n",
        "If num == 1 then\n",
        "  display\"I\"\n",
        "Else if num == 2 then\n",
        "  display\"II\"\n",
        "Else if num == 3 then\n",
        "  display\"III\"\n",
        "Else if num == 4 then\n",
        "  display\"IV\"\n",
        "Else if num == 5 then\n",
        "  display\"V\"\n",
        "Else if num == 6 then\n",
        "  display\"VI\"\n",
        "Else if num == 7 then\n",
        "  display\"VII\"\n",
        "Else if num == 8 then\n",
        "  display\"VIII\"\n",
        "Else if num == 9 then\n",
        "  display\"IX\"\n",
        "Else if num == 10 then\n",
        "  display\"X\"\n",
        "Else:\n",
        "  display\"El numero debe de ser entre 1 al 10\"\n",
        "End if\n",
        "\n",
        "end\n",
        "```"
      ],
      "metadata": {
        "id": "f63iD3rF82Oz"
      }
    },
    {
      "cell_type": "markdown",
      "source": [
        "\n",
        "## Ejercicios de estructuras selectivas\n",
        "### _Nombre: Fabian Oviedo, Javier Perez, Cristian Robayo, Yadiel López_\n",
        "### IDs: 000577288, 000575898, 000563245,000576591\n",
        "### Email: Fabian.oviedog@upb.edu.co, javier.perezs@upb.edu.co, cristian.robayo@upb.edu.co, yadiel.lopez@upb.edu.co\n"
      ],
      "metadata": {
        "id": "CVUXkd1DltBA"
      }
    },
    {
      "cell_type": "code",
      "source": [
        "num = int(input(\"Ingrese un numero del 1 al 10: \"))\n",
        "\n",
        "if num == 1:\n",
        "  print(\"I\")\n",
        "elif num == 2:\n",
        "  print(\"II\")\n",
        "elif num == 3:\n",
        "  print(\"III\")\n",
        "elif num == 4:\n",
        "  print(\"IV\")\n",
        "elif num == 5:\n",
        "  print(\"V\")\n",
        "elif num == 6:\n",
        "  print(\"VI\")\n",
        "elif num == 7:\n",
        "  print(\"VII\")\n",
        "elif num == 8:\n",
        "  print(\"VIII\")\n",
        "elif num == 9:\n",
        "  print(\"IX\")\n",
        "elif num == 10:\n",
        "  print(\"X\")\n",
        "else:\n",
        "  print(\"El numero del 1 al 10\")"
      ],
      "metadata": {
        "id": "Bulc1UB5-C7T"
      },
      "execution_count": null,
      "outputs": []
    },
    {
      "cell_type": "markdown",
      "source": [
        "#Ejercicio 2\n",
        "## Áreas de Rectángulos  \n",
        "El área de un rectángulo se calcula multiplicando su longitud por su ancho. Diseña un programa que solicite la longitud y el ancho de dos rectángulos. El programa debe informar al usuario cuál de los rectángulos tiene un área mayor o si ambas áreas son iguales."
      ],
      "metadata": {
        "id": "8kffmaWx-cD-"
      }
    },
    {
      "cell_type": "markdown",
      "source": [
        "```\n",
        "program\n",
        "start\n",
        "declare real largo1\n",
        "declare real ancho1\n",
        "declare real largo2\n",
        "declare real ancho2\n",
        "declare real area1\n",
        "declare real area2\n",
        "\n",
        "display\"Ingrese el largo del primer rectangulo\"\n",
        "input largo1\n",
        "\n",
        "display\"Ingrese el ancho del primer rectangulo\"\n",
        "input ancho1\n",
        "\n",
        "set area1 = largo1 * ancho1\n",
        "display\"el area del primer rectangulo equivale a: \",area1\n",
        "\n",
        "display\"Ingrese el largo del segundo rectangulo\"\n",
        "input largo2\n",
        "\n",
        "display\"Ingrese el ancho del segundo rectangulo\"\n",
        "input ancho2\n",
        "\n",
        "set area2 = largo2 * ancho2\n",
        "display\"el area del primer rectangulo equivale a: \",area2\n",
        "\n",
        "if area1 > area2 then\n",
        "  display\"el area 1 es mayor\"\n",
        "else\n",
        "  display\"el area 2 es mayor\"\n",
        "end if\n",
        "end\n",
        "\n",
        "```\n",
        "\n"
      ],
      "metadata": {
        "id": "_UO1NSMG-k2y"
      }
    },
    {
      "cell_type": "code",
      "source": [
        "largo1 = float(input(\"Ingrese el largo del primer rectangulo: \"))\n",
        "ancho1 = float(input(\"Ingrese el ancho del primer rectangulo: \"))\n",
        "area1 = largo1 * ancho1\n",
        "print(\"el area del primer rectangulo equivale a: \",area1)\n",
        "\n",
        "largo2 = float(input(\"Ingrese el largo del segundo rectangulo: \"))\n",
        "ancho2 = float(input(\"Ingrese el ancho del segundo rectangulo: \"))\n",
        "area2 = largo2 * ancho2\n",
        "print(\"el area del primer rectangulo equivale a: \",area2)\n",
        "\n",
        "if area1 > area2:\n",
        "  print(\"el area 1 es mayor\")\n",
        "else:\n",
        "  print(\"el area 2 es mayor\")"
      ],
      "metadata": {
        "colab": {
          "base_uri": "https://localhost:8080/"
        },
        "id": "tLRqcK2yB0AS",
        "outputId": "4c9481d3-0c67-4e2a-c5f4-af053b12f362"
      },
      "execution_count": null,
      "outputs": [
        {
          "output_type": "stream",
          "name": "stdout",
          "text": [
            "Ingrese el largo del primer rectangulo: 3\n",
            "Ingrese el ancho del primer rectangulo: 5\n",
            "el area del primer rectangulo equivale a:  15.0\n",
            "Ingrese el largo del segundo rectangulo: 8\n",
            "Ingrese el ancho del segundo rectangulo: 9\n",
            "el area del primer rectangulo equivale a:  72.0\n",
            "el area 2 es mayor\n"
          ]
        }
      ]
    },
    {
      "cell_type": "markdown",
      "source": [
        "#Ejercicio 3\n",
        "## Masa y Peso  \n",
        "Los científicos miden la masa de un objeto en kilogramos y su peso en Newtons. Si conoces la\n",
        "cantidad de masa de un objeto, puedes calcular su peso en Newtons con la siguiente fórmula:\n",
        "\n",
        "weight = mass * 9.8"
      ],
      "metadata": {
        "id": "GOTPii0BSUJ4"
      }
    },
    {
      "cell_type": "markdown",
      "source": [
        "```\n",
        "program\n",
        "start\n",
        "declare real mass\n",
        "declare real weight\n",
        "\n",
        "#Ingrese la masa de un objeto\n",
        "input mass\n",
        "\n",
        "set weight = mass * 9.8\n",
        "\n",
        "if weight > 1000 then\n",
        "  display\"El objeto es pesado\"\n",
        "elif weight < 10 then\n",
        "  display\"El objeto es ligero\"\n",
        "else:\n",
        "  display\"El objeto tiene un peso normal\"\n",
        "end if\n",
        "end\n",
        "```"
      ],
      "metadata": {
        "id": "fofDCpgxSjkD"
      }
    },
    {
      "cell_type": "code",
      "source": [
        "mass = float(input(\"Ingrese la masa de un objeto: \"))\n",
        "weight = mass * 9.8\n",
        "\n",
        "if weight > 1000:\n",
        "  print(\"El objeto es pesado\")\n",
        "elif weight < 10:\n",
        "  print(\"El objeto es ligero\")\n",
        "else:\n",
        "  print(\"El objeto tiene un peso normal\")"
      ],
      "metadata": {
        "id": "3mRHTuZdUXme"
      },
      "execution_count": null,
      "outputs": []
    },
    {
      "cell_type": "markdown",
      "source": [
        "#Ejercicio 4\n",
        "##Fechas Mágicas  \n",
        "La fecha 10 de junio de 1960 es especial porque cuando se escribe en el siguiente formato, el mes multiplicado por el día es igual al año:\n",
        "\n",
        "6/10/60\n",
        "\n",
        "Diseña un programa que solicite al usuario ingresar un mes (en formato numérico), un día y un año de dos dígitos. El programa debe determinar si el mes multiplicado por el día es igual al año. Si es así, debe mostrar un mensaje diciendo que la fecha es mágica. De lo contrario, debe mostrar un mensaje indicando que la fecha no es mágica.\n"
      ],
      "metadata": {
        "id": "t25UAxNAUjpT"
      }
    },
    {
      "cell_type": "markdown",
      "source": [
        "```\n",
        "program\n",
        "start\n",
        "\n",
        "//Variables\n",
        "declare int dia\n",
        "declare int mes\n",
        "declare int año\n",
        "\n",
        "display\"Ingrese el dia\"\n",
        "input dia\n",
        "\n",
        "display\"Ingrese el mes\"\n",
        "input mes\n",
        "\n",
        "display\"Ingrese el año\"\n",
        "input año\n",
        "\n",
        "if (dia * mes) == año then\n",
        "  display\"La fecha es mágica\"\n",
        "else\n",
        "  display\"La fecha no es mágica\"\n",
        "end if\n",
        "end\n",
        "```"
      ],
      "metadata": {
        "id": "jdQByiImUl6G"
      }
    },
    {
      "cell_type": "code",
      "source": [
        "dia = int(input(\"Ingrese el dia: \"))\n",
        "mes = int(input(\"Ingrese el mes: \"))\n",
        "año = int(input(\"Ingrese el año: \"))\n",
        "\n",
        "if (dia * mes) == año:\n",
        "  print(\"La fecha es mágica\")\n",
        "else:\n",
        "  print(\"La fecha no es mágica\")"
      ],
      "metadata": {
        "id": "COkP9gOfX3Bc"
      },
      "execution_count": null,
      "outputs": []
    },
    {
      "cell_type": "markdown",
      "source": [
        "#Ejercicio 5\n",
        "##Mezclador de Colores  \n",
        "Los colores rojo, azul y amarillo son conocidos como colores primarios porque no se pueden obtener mezclando otros colores. Cuando mezclas dos colores primarios, obtienes un color secundario, como se muestra aquí:\n",
        "\n",
        "- Cuando mezclas rojo y azul, obtienes púrpura.\n",
        "- Cuando mezclas rojo y amarillo, obtienes naranja.\n",
        "- Cuando mezclas azul y amarillo, obtienes verde.\n",
        "\n",
        "Diseña un programa que solicite al usuario ingresar los nombres de dos colores primarios para mezclarlos. Si el usuario ingresa algo diferente a \"rojo\", \"azul\" o \"amarillo\", el programa debe mostrar un mensaje de error. De lo contrario, el programa debe mostrar el nombre del color secundario resultante."
      ],
      "metadata": {
        "id": "2EskXZvVX9VF"
      }
    },
    {
      "cell_type": "markdown",
      "source": [
        "```\n",
        "program\n",
        "start\n",
        "declare string color1\n",
        "declare string color2\n",
        "\n",
        "display\"Ingrese el primer color primario\"\n",
        "input color1\n",
        "\n",
        "display\"Ingrese el segundo color primario\"\n",
        "input color2\n",
        "\n",
        "if (color1 == \"azul\" and color2 == \"rojo\") or (color1 == \"rojo\" and color2 == \"azul\")\n",
        "  display\"El color es morado\"\n",
        "\n",
        "else if (color1 == \"rojo\" and color2 == \"amarillo\") or (color1 == \"amarillo\" and color2 == \"rojo\")\n",
        "  display\"El color es naranja\"\n",
        "\n",
        "else if (color1 == \"azul\" and color2 == \"amarillo\") or (color1 == \"amarillo\" and color2 == \"azul\")\n",
        "  display\"El color es verde\"\n",
        "\n",
        "end if\n",
        "end\n",
        "```"
      ],
      "metadata": {
        "id": "GLdnOvt9Zbee"
      }
    },
    {
      "cell_type": "code",
      "source": [
        "color1 = input(\"Ingrese el primer color: \")\n",
        "color2 = input(\"Ingrese el segundo color: \")\n",
        "\n",
        "if (color1 == \"azul\" and color2 == \"rojo\") or (color1 == \"rojo\" and color2 == \"azul\"):\n",
        "  print(\"El color es morado\")\n",
        "elif (color1 == \"rojo\" and color2 == \"amarillo\") or (color1 == \"amarillo\" and color2 == \"rojo\"):\n",
        "  print(\"El color es naranja\")"
      ],
      "metadata": {
        "id": "FnS3AOmzaw07"
      },
      "execution_count": null,
      "outputs": []
    },
    {
      "cell_type": "markdown",
      "source": [
        "#Ejercicio 6\n",
        "\n",
        "Serendipity Booksellers tiene un club de lectura que otorga puntos a sus clientes según la cantidad de libros comprados cada mes.\n",
        "Los puntos se otorgan de la siguiente manera:\n",
        "- Si un cliente compra 0 libros, gana 0 puntos.\n",
        "- Si un cliente compra 1 libro, gana 5 puntos.\n",
        "- Si un cliente compra 2 libros, gana 15 puntos.\n",
        "- Si un cliente compra 3 libros, gana 30 puntos.\n",
        "- Si un cliente compra 4 o más libros, gana 60 puntos.\n",
        "\n",
        "Diseña un programa que solicite al usuario ingresar la cantidad de libros que ha comprado este mes y muestre el número de puntos otorgados."
      ],
      "metadata": {
        "id": "_I6ILgIHa8uO"
      }
    },
    {
      "cell_type": "markdown",
      "source": [
        "```\n",
        "program\n",
        "start\n",
        "declare int libros\n",
        "\n",
        "display\"Ingrese la cantidad de libros comprados\"\n",
        "input libros\n",
        "\n",
        "if libros >= 4 then\n",
        "  display\"El cliente ganó 60 puntos\"\n",
        "else if libros == 3 then\n",
        "  display\"El cliente ganó 30 puntos\"\n",
        "else if libros == 2 then\n",
        "  display\"El cliente ganó 15 puntos\"\n",
        "else if libros == 1 then\n",
        "  display\"El cliente ganó 5 puntos\"\n",
        "else\n",
        "  display\"El ciente no ganó ningún punto\"\n",
        "end if\n",
        "end\n",
        "```\n",
        "\n"
      ],
      "metadata": {
        "id": "4IFBvUbmbAl6"
      }
    },
    {
      "cell_type": "code",
      "source": [
        "libros = int(input(\"Ingrese la cantidad de libros comprados: \"))\n",
        "\n",
        "if libros >= 4:\n",
        "  print(\"El cliente ganó 60 puntos\")\n",
        "elif libros == 3:\n",
        "  print(\"El cliente ganó 30 puntos\")\n",
        "elif libros == 2:\n",
        "  print(\"El cliente ganó 15 puntos\")\n",
        "elif libros == 1:\n",
        "  print(\"El cliente ganó 5 puntos\")\n",
        "else:\n",
        "  print(\"El ciente no ganó ningún punto\")"
      ],
      "metadata": {
        "id": "emqhqt_nc2zM"
      },
      "execution_count": null,
      "outputs": []
    },
    {
      "cell_type": "markdown",
      "source": [
        "#Ejercicio 7\n",
        "\n",
        "Una compañía de software vende un paquete que se vende al por menor por $99. Se otorgan\n",
        "descuentos por cantidad según la siguiente tabla:\n",
        "- 10–19 unidades: 20% de descuento\n",
        "- 20–49 unidades: 30% de descuento\n",
        "- 50–99 unidades: 40% de descuento\n",
        "- 100 o más unidades: 50% de descuento\n",
        "\n",
        "Diseña un programa que solicite al usuario ingresar la cantidad de paquetes comprados. El programa debe mostrar el monto del descuento (si lo hay) y el monto total de la compra después del descuento.\n"
      ],
      "metadata": {
        "id": "26g1VD5zeG71"
      }
    },
    {
      "cell_type": "markdown",
      "source": [
        "Pseudocodigo\n",
        "```\n",
        "1. Program Ventas de software\n",
        "Start\n",
        "  constant int paquetes = 99\n",
        "  Declare real cantidad\n",
        "  Declare real base\n",
        "  Declare real off\n",
        "  Declare real total\n",
        "\n",
        "  Display \" Favor, ingrese la cantidad de paquetes comprados\"\n",
        "  input cantidad\n",
        "  \n",
        "  Set base = cantidad*paquetes\n",
        "\n",
        "  If cantidad >= 10 and cantidad =< 19 then\n",
        "    Set off = 0.2\n",
        "\n",
        "    Set total = base - base*off\n",
        "\n",
        "    Display \"su descuento es del 20%\"\n",
        "\n",
        "    Display \"su total es\",total\n",
        "\n",
        "\n",
        "  Elif cantidad >=20  and cantidad =< 49 then\n",
        "\n",
        "    set off = 0.3\n",
        "\n",
        "    Set total = base - base*off\n",
        "       Display \"su descuento es del 30%\"\n",
        "\n",
        "    Display \"su total es\",total\n",
        "\n",
        "  Elif cantidad >= 50 and cantidad =< 99 then\n",
        "\n",
        "    set off = 0.4\n",
        "\n",
        "    Set total = base - base*off\n",
        "\n",
        "    Display \"su descuento es del 40%\"\n",
        "\n",
        "    Display \"su total es\",total\n",
        "\n",
        "  Elif cantidad >= 100 then\n",
        "\n",
        "    Set off = 0.5\n",
        "\n",
        "    Set total = base - base*0.5\n",
        "\n",
        "    Display \"su descuento es del 50%\"\n",
        "\n",
        "    Display \"su total es\",total\n",
        "  \n",
        "  Else\n",
        "    Display \"su total es\",base\n",
        "  end if\n",
        "End\n",
        "```"
      ],
      "metadata": {
        "id": "Qc1dqgTHiZud"
      }
    },
    {
      "cell_type": "code",
      "source": [
        "cantidad = int(input(\"ingrese la cantidad de paqutes comprados: \"))\n",
        "\n",
        "paquetes= 99\n",
        "\n",
        "base= cantidad*paquetes\n",
        "\n",
        "if cantidad >= 10 and cantidad <= 19 :\n",
        "    total = base - base*0.2\n",
        "    print(\"su descuento es del 20%\")\n",
        "    print(\"su total es de\", total,\" COP\")\n",
        "elif cantidad >=20 and cantidad <= 49 :\n",
        "    total = base - base*0.3\n",
        "    print(\"su descuento es del 30%\")\n",
        "    print(\"su total es de\", total,\" COP\")\n",
        "elif cantidad >=50 and cantidad <= 99 :\n",
        "    total = base - base*0.4\n",
        "    print(\"su descuento es del 40%\")\n",
        "    print(\"su total es de\", total,\" COP\")\n",
        "elif cantidad >=100 :\n",
        "    total = base - base*0.5\n",
        "    print(\"su descuento es del 50%\")\n",
        "    print(\"su total es de:\", total,\" COP\")\n",
        "else:\n",
        "    print(\"su total es:\", base)"
      ],
      "metadata": {
        "id": "Jbn9CDRTfhQw"
      },
      "execution_count": null,
      "outputs": []
    },
    {
      "cell_type": "markdown",
      "source": [
        "#Ejercicio 8\n",
        "##_Juego del Cambio para un Dólar_\n",
        "\n",
        "Diseña un juego de contar cambio que solicite al usuario ingresar la cantidad de monedas necesarias para hacer exactamente un dólar. El programa debe pedir al usuario que ingrese la cantidad de centavos, monedas de cinco centavos, monedas de diez centavos y monedas de veinticinco centavos. Si el valor total de las monedas ingresadas es igual a un dólar, el programa debe felicitar al usuario por ganar el juego. De lo contrario, el programa debe mostrar un mensaje indicando si la cantidad ingresada fue mayor o menor que un dólar."
      ],
      "metadata": {
        "id": "Mxxkmg0Sgjjy"
      }
    },
    {
      "cell_type": "markdown",
      "source": [
        "```\n",
        "program\n",
        "start\n",
        "  declare int cents,cinco_cent,diez_cent,veinticinco_cent\n",
        "  \n",
        "  display\"cents las monedas de un centavo\"\n",
        "  input cents\n",
        "  \n",
        "  display\"ingrese las monedas de cinco centavos\"\n",
        "  input cinco_cent\n",
        "  \n",
        "  display\"ingrese las monedas de diez centavos\"\n",
        "  input diez_cent\n",
        "\n",
        "  display\"ingrese las monedas de veinticinco centavos\"\n",
        "  input veinticinco_cent\n",
        "  \n",
        "  if (cents + cinco_cent + diez_cent + veinticinco_cent)/100 == 1:\n",
        "    display\"Felicidades, has ganado!\"\n",
        "  else if (cents + cinco_cent + diez_cent + veinticinco_cent)/100 > 1:\n",
        "    display\"La cantidad ingresada fue mayor a un dolar\"\n",
        "  else\n",
        "    display\"La cantidad ingresada fue menor a un dolar\"\n",
        "  end if\n",
        "end\n",
        "```"
      ],
      "metadata": {
        "id": "JNymGOwbhH7Z"
      }
    },
    {
      "cell_type": "code",
      "source": [
        "cents = int(input(\"cents las monedas de un centavo: \"))\n",
        "cinco_cent = int(input(\"ingrese las monedas de cinco centavos: \"))\n",
        "diez_cent = int(input(\"ingrese las monedas de diez centavos: \"))\n",
        "veinticinco_cent = int(input(\"ingrese las monedas de veinticinco centavos: \"))\n",
        "\n",
        "if ((cents*1) + (cinco_cent*5) + (diez_cent*10) + (veinticinco_cent*25))/100 == 1:\n",
        "  print(\"Felicidades, has ganado!\")\n",
        "elif ((cents*1) + (cinco_cent*5) + (diez_cent*10) + (veinticinco_cent*25))/100 > 1:\n",
        "  print(\"La cantidad ingresada fue mayor a un dolar\")\n",
        "else:\n",
        "  print(\"La cantidad ingresada fue menor a un dolar\")"
      ],
      "metadata": {
        "id": "dhyUecyu1U3o"
      },
      "execution_count": null,
      "outputs": []
    },
    {
      "cell_type": "markdown",
      "source": [
        "# Ejercicio 9\n",
        "##Cargos por Envío  \n",
        "La Compañía de Envíos Fast Freight cobra las siguientes tarifas:\n",
        "- Peso del paquete: 2 libras o menos, tarifa: 1.10 por libra\n",
        "-Peso del paquete: Más de 2 libras, pero no más de 6 libras, tarifa: 2.20 por libra\n",
        "- Peso del paquete: Más de 6 libras, pero no más de 10 libras, tarifa: 3.70 por libra\n",
        "- Peso del paquete: Más de 10 libras, tarifa: $3.80 por libra\n",
        "Diseña un programa que solicite al usuario ingresar el peso de un paquete y luego muestre los cargos\n",
        "por envío."
      ],
      "metadata": {
        "id": "HUrfUlvG2lCq"
      }
    },
    {
      "cell_type": "markdown",
      "source": [
        "Program  Fast Freight\n",
        "```\n",
        "Start\n",
        "  Declare real peso\n",
        "  Display \"ingresa el peso del paquete: \"\n",
        "  Input peso\n",
        "  if\n",
        "    peso =< 2\n",
        "    Set resultado = peso * 1.10\n",
        "    display resultado\n",
        "  Elif\n",
        "    peso >= 2\n",
        "    Set resultadp = peso * 2.20\n",
        "    display resultado\n",
        "  Elif\n",
        "    peso >= 6\n",
        "    Set resultado = peso * 3.70\n",
        "    display resultado\n",
        "  Elif\n",
        "    peso >= 10\n",
        "    Set resultado = peso * 3.80\n",
        "    display resultado\n",
        "End\n",
        "\n",
        "```"
      ],
      "metadata": {
        "id": "emoUSWei2k76"
      }
    },
    {
      "cell_type": "code",
      "source": [
        "peso = float(input(\"ingresa el peso del paquete: \"))\n",
        "if  peso <= 2:\n",
        "    resultado = peso * 1.10\n",
        "    print(resultado)\n",
        "elif peso >= 2 and peso < 6:\n",
        "     resultado = peso * 2.20\n",
        "     print(resultado)\n",
        "elif  peso >= 6 and peso < 10:\n",
        "     resultado = peso * 3.70\n",
        "     print(resultado)\n",
        "elif peso >= 10:\n",
        "     resultado = peso * 3.80\n",
        "     print(resultado)"
      ],
      "metadata": {
        "id": "8LhPFu9J2kuk"
      },
      "execution_count": null,
      "outputs": []
    },
    {
      "cell_type": "markdown",
      "source": [
        "# Ejercicio 10\n",
        "## 10. Mejora del Programa de Índice de Masa Corporal.\n",
        "\n",
        "El IMC de una persona se calcula con la siguiente fórmula:\n",
        "\n",
        "I𝑀𝐶 =𝑤𝑒𝑖𝑔ℎ𝑡× 703/ℎ𝑒𝑖𝑔ℎ𝑡^2\n",
        "\n",
        "En la fórmula, el peso (weight) se mide en libras y la altura (height) en pulgadas.\n",
        "Mejora el programa para que muestre un mensaje indicando si la persona tiene un peso óptimo, si está por debajo del peso o si tiene sobrepeso.\n",
        "Se considera que el peso de una persona sedentaria es óptimo si su IMC está entre 18.5 y 25. Si el IMC es menor de 18.5, se considera que la persona está\n",
        "por debajo del peso. Si el valor del IMC es mayor de 25, se considera que la persona tiene sobrepeso.\n",
        "\n",
        "\n",
        "\n",
        "```\n",
        "10.program IMC\n",
        "\n",
        "Start\n",
        "\n",
        "\tDeclare  real altura\n",
        "\tDeclare real peso\n",
        "\tDeclare real IMC\n",
        "\n",
        "  Display \"ingrese su altura en pulgadas\"\n",
        "  input altura\n",
        "\n",
        "  Display \"ingrese su peso en libras\"\n",
        "  input peso\n",
        "\n",
        "  Set IMC= (peso*703)/(altura^2)\n",
        "\n",
        "  if IMC >=18.5 and IMC <= 25 then\n",
        "      Display \"su peso es optimo\"\n",
        "\n",
        "  Else if IMC< 18.5 then\n",
        "      Display \"Estas por debajo del peso optimo\"\n",
        "\n",
        "  else if IMC > 25\n",
        "      Display \" Estas en sobrepeso\"\n",
        "  End if\n",
        "\n",
        "\n",
        "\n",
        "End\n",
        "\n",
        "```\n"
      ],
      "metadata": {
        "id": "YU4N57ptcAAL"
      }
    },
    {
      "cell_type": "code",
      "source": [
        "altura= float(input(\"ingrese su altura en pulgadas: \"))\n",
        "peso= float(input(\"ingrese su peso en libras: \"))\n",
        "IMC= (peso*703)/(altura**2)\n",
        "if IMC >=18.5 and IMC <= 25:\n",
        "  print(\"su peso es optimo\")\n",
        "elif IMC< 18.5:\n",
        "  print(\"Estas por debajo del peso optimo\")\n",
        "else:\n",
        "  print(\" Estas en sobrepeso\")"
      ],
      "metadata": {
        "id": "Y1wc40YAcKw-"
      },
      "execution_count": null,
      "outputs": []
    },
    {
      "cell_type": "markdown",
      "source": [
        "#Ejercicio 11\n",
        "\n",
        "##_Calculadora de Tiempo_\n",
        "\n",
        "Diseña un programa que solicite al usuario ingresar una cantidad de segundos y funcione de la siguiente manera:\n",
        "- Hay 60 segundos en un minuto. Si la cantidad de segundos ingresada por el usuario es mayor o igual a 60, el programa debe mostrar la cantidad de minutos en esa cantidad de segundos.\n",
        "- Hay 3600 segundos en una hora. Si la cantidad de segundos ingresada por el usuario es mayor o igual a 3600, el programa debe mostrar la cantidad de horas en esa cantidad de segundos.\n",
        "\n",
        "Hay 86400 segundos en un día. Si la cantidad de segundos ingresada por el usuario es mayor o igual a 86400, el programa debe mostrar la cantidad de días en esa cantidad de segundos."
      ],
      "metadata": {
        "id": "lpS2agYClYQs"
      }
    },
    {
      "cell_type": "markdown",
      "source": [
        "```\n",
        "program\n",
        "start\n",
        "  declare real sec,dias,min,hrs\n",
        "\n",
        "  display\"ingresa los segundos\"\n",
        "  input sec\n",
        "\n",
        "  if sec >= 86400 then\n",
        "    set dias = sec/86400\n",
        "    display\"los segundos en dias son: \",dias,\" dias\"\n",
        "  else if sec >= 3600 then\n",
        "    set hrs = sec/3600\n",
        "    display\"los segundos en horas son: \",hrs,\" horas\"\n",
        "  else if sec >= 60 then\n",
        "    set min = sec/60\n",
        "    display\"los segundos en minutos son: \",min,\" min\"\n",
        "  else:\n",
        "    display\"menos de un minuto\"\n",
        "  end if\n",
        "end\n",
        "```"
      ],
      "metadata": {
        "id": "ykPdp6dzmVk0"
      }
    },
    {
      "cell_type": "code",
      "source": [
        "sec = float(input(\"ingresa los segundos: \"))\n",
        "\n",
        "if sec >= 86400:\n",
        "  dias = sec/86400\n",
        "  print(\"los segundos en dias son: \",dias,\" dias\")\n",
        "elif sec >= 3600:\n",
        "  hrs = sec/3600\n",
        "  print(\"los segundos en horas son: \",hrs,\" horas\")\n",
        "elif sec >= 60:\n",
        "  min = sec/60\n",
        "  print(\"los segundos en minutos son: \",min,\" minutos\")\n",
        "else:\n",
        "  print(\"menos de un minuto\")"
      ],
      "metadata": {
        "id": "DRmZLT1w0C0C"
      },
      "execution_count": null,
      "outputs": []
    },
    {
      "cell_type": "markdown",
      "source": [
        "## Ejercicio 12\n"
      ],
      "metadata": {
        "id": "5zRafiFGjKpS"
      }
    },
    {
      "cell_type": "markdown",
      "source": [
        "Programa Empresa de Mensajería\n",
        "```\n",
        "Start\n",
        "  Declare real peso\n",
        "  Display \"introduce el peso: \"\n",
        "  input peso\n",
        "  Display \"es afuera del pais introduce 1 si es lo contrario 0: \"\n",
        "  input pais\n",
        "    If\n",
        "      peso =< 5\n",
        "      Set resultado = peso * 1500\n",
        "    Elif\n",
        "      peso >= 6\n",
        "      Set resultado = peso * 2500\n",
        "    Elif\n",
        "      peso >= 20\n",
        "      Set resultado = peso * 3500\n",
        "    If\n",
        "      pais == 1\n",
        "      set resultado1 = resultado * 0.15\n",
        "      display \"resultado1:\"\n",
        "    Elif\n",
        "      pais == 0\n",
        "      display \"resultado:\"\n",
        "```"
      ],
      "metadata": {
        "id": "P-6OHjTGjKg_"
      }
    },
    {
      "cell_type": "code",
      "source": [
        "peso = int(input(\"introduce el peso: \"))\n",
        "pais = int(input(\"es afuera del pais introduce 1 si es lo contrario 0: \"))\n",
        "if  peso <= 5:\n",
        "    resultado = peso * 1500\n",
        "elif peso >= 6 and peso < 20:\n",
        "    resultado = peso * 2500\n",
        "elif peso >= 20:\n",
        "    resultado = peso * 3500\n",
        "if pais == 1:\n",
        "    resultado1 = resultado * 0.15\n",
        "    print(resultado1)\n",
        "elif pais == 0:\n",
        "    print(resultado)"
      ],
      "metadata": {
        "id": "LSEp-IxljKKV"
      },
      "execution_count": null,
      "outputs": []
    },
    {
      "cell_type": "markdown",
      "source": [
        "# Ejercicio 13\n",
        "## 13. Cálculo de la Factura del Servicio de Agua\n",
        "Diseña un programa que calcule el valor total a pagar en la factura de agua teniendo en cuenta que este depende del consumo en metros cúbicos (m³) y el estrato socioeconómico del usuario.\n",
        "\n",
        "El consumo se clasifica en tres bloques:\n",
        "- Consumo Básico: los primeros 11 m³ que se cobran a $1,000 COP por m³.\n",
        "\n",
        "- Consumo Complementario: de 12 a 20 m³ que se cobran a $2,000 COP por m³.\n",
        "\n",
        "- Consumo Suntuoso: todo consumo por encima de 20 m³ que se cobran a $3,000 COP por m³.\n",
        "\n",
        "Además, se aplican subsidios o contribuciones sobre el subtotal en función del estrato socioeconómico del usuario:\n",
        "\n",
        "- Estrato 1: subsidio del 50%.\n",
        "\n",
        "- Estrato 2: subsidio del 40%.\n",
        "\n",
        "- Estrato 3: subsidio del 15%.\n",
        "\n",
        "- Estrato 4: sin subsidio ni contribución.\n",
        "\n",
        "- Estratos 5 y 6: contribución de 20%\n",
        "\n",
        "```\n",
        "13. Program Consumo de agua\n",
        "\n",
        "Start\n",
        "  Declare real agua\n",
        "  Declare int estrato\n",
        "  Declare real tasa\n",
        "  Declare real precio\n",
        "  Declare real extra\n",
        "  Declare real base\n",
        "  Declare real total\n",
        "\n",
        "  Dispaly \"Ingrese su consumo de agua por m^3\"\n",
        "  input agua\n",
        "  Display \"Ingrese su estrato\"\n",
        "  input estrato\n",
        "\n",
        "  Set base = agua*precio\n",
        "\n",
        "  Select estrato\n",
        "    Case 1\n",
        "      set tasa = -0.5\n",
        "    Case 2\n",
        "      set tasa = -0.4\n",
        "    Case 3\n",
        "      set tasa = -0.15\n",
        "    Case 4\n",
        "      set tasa = 0\n",
        "    Default\n",
        "      Set tasa = 0.2\n",
        "\n",
        "  End select\n",
        "\n",
        "  if agua <= 11 then\n",
        "\n",
        "    set precio = 1000\n",
        "\n",
        "    set extra = base*tasa\n",
        "\n",
        "    set total = base + extra\n",
        "\n",
        "    Display \"su total es\", total\n",
        "\n",
        "  Elif agua >= 12 and agua <= 20 then\n",
        "\n",
        "    Set precio = 2000\n",
        "    \n",
        "    set extra = base*tasa\n",
        "\n",
        "    set total = base + base*tasa\n",
        "\n",
        "    Display \"su total es\", total\n",
        "\n",
        "  Else\n",
        "\n",
        "    Set precio = 3000\n",
        "\n",
        "    set extra = base*tasa\n",
        "\n",
        "    set total = base + base*tasa\n",
        "\n",
        "    Display \"su total es\", total\n",
        "\n",
        "  End if\n",
        "\n",
        "    \n",
        "\n",
        "End\n",
        "```"
      ],
      "metadata": {
        "id": "LCLspPF3gVT2"
      }
    },
    {
      "cell_type": "code",
      "source": [
        "agua= float(input(\"Ingrese su consumo de agua por m^3: \"))\n",
        "estrato= int(input(\"Ingrese su estrato: \"))\n",
        "tasa= 0\n",
        "precio= 1000\n",
        "extra= 0\n",
        "base= agua*precio\n",
        "match estrato:\n",
        "  case 1:\n",
        "    tasa = -0.5\n",
        "  case 2:\n",
        "    tasa = -0.4\n",
        "  case 3:\n",
        "    tasa = -0.15\n",
        "  case 4:\n",
        "    tasa = 0\n",
        "  case _:\n",
        "    tasa = 0.2\n",
        "\n",
        "if agua <= 11:\n",
        "  Precio = 1000\n",
        "  extra = base*tasa\n",
        "  total = base + extra\n",
        "elif agua >= 12 and agua <= 20:\n",
        "  Precio = 2000\n",
        "  extra = base*tasa\n",
        "  total = base + extra\n",
        "else:\n",
        "  precio = 3000\n",
        "  extra = base*tasa\n",
        "  total = base + extra\n",
        "print(\"su total es\", total)"
      ],
      "metadata": {
        "id": "u-LMpl-Dgc6o"
      },
      "execution_count": null,
      "outputs": []
    }
  ]
}